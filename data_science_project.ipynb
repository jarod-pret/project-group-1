{
 "cells": [
  {
   "cell_type": "code",
   "execution_count": 42,
   "id": "initial_id",
   "metadata": {
    "collapsed": true,
    "ExecuteTime": {
     "end_time": "2024-03-21T15:17:05.823361Z",
     "start_time": "2024-03-21T15:17:04.794281Z"
    }
   },
   "outputs": [],
   "source": [
    "# Read the data\n",
    "\n",
    "# Import the libraries\n",
    "import pandas as pd\n",
    "\n",
    "# Import the datasets from the xls files\n",
    "\n",
    "# *** Deaths related to drug poisoning England and Wales, 1993 to 2022 ***\n",
    "# df1 = pd.read_excel('2022registrations.xlsx', sheet_name='')\n",
    "\n",
    "# *** Alcohol-specific deaths by individual cause, United Kingdom, 2001 to 2021 ***\n",
    "df2_England          = pd.read_excel('deathsbyindividualcause.xlsx', sheet_name='Table 2', header=4)\n",
    "df2_Wales            = pd.read_excel('deathsbyindividualcause.xlsx', sheet_name='Table 3', header=4)\n",
    "df2_Scotland         = pd.read_excel('deathsbyindividualcause.xlsx', sheet_name='Table 4', header=4)\n",
    "df2_Northern_Ireland = pd.read_excel('deathsbyindividualcause.xlsx', sheet_name='Table 5', header=4)\n",
    "\n",
    "# *** Alcohol-specific deaths in the UK, 2001 to 2021 ***\n",
    "df3 = pd.read_excel('alcoholspecificdeaths2021.xlsx', sheet_name='Table 1', header=4)\n",
    "\n",
    "# *** Monitoring and Evaluating Scotland’s Alcohol Strategy: Monitoring Report 2021 ***\n",
    "# df4 = pd.read_excel('mesas-monitoring-report-2021-alcohol-specific-deaths.xlsx', sheet_name='')"
   ]
  },
  {
   "cell_type": "code",
   "outputs": [
    {
     "data": {
      "text/plain": "     Year [note 3]      Sex ICD-10 code  \\\n0             2021  Persons       E24.4   \n1             2021  Persons         F10   \n2             2021  Persons       G31.2   \n3             2021  Persons       G62.1   \n4             2021  Persons       G72.1   \n..             ...      ...         ...   \n940           2001  Females       Q86.0   \n941           2001  Females       R78.0   \n942           2001  Females         X45   \n943           2001  Females         X65   \n944           2001  Females         Y15   \n\n                 Individual cause of death description  <1  01-04  05-09  \\\n0            Alcohol-induced pseudo-Cushing's syndrome   0      0      0   \n1    Mental and behavioural disorders due to the us...   0      0      0   \n2        Degeneration of nervous system due to alcohol   0      0      0   \n3                             Alcoholic polyneuropathy   0      0      0   \n4                                   Alcoholic myopathy   0      0      0   \n..                                                 ...  ..    ...    ...   \n940                Fetal alcohol syndrome (dysmorphic)   0      0      0   \n941                        Excess alcohol blood levels   0      0      0   \n942    Accidental poisoning by and exposure to alcohol   0      0      0   \n943  Intentional self-poisoning by and exposure to ...   0      0      0   \n944  Poisoning by and exposure to alcohol, undeterm...   0      0      0   \n\n     10-14  15-19  20-24  ...  50-54  55-59  60-64  65-69  70-74  75-79  \\\n0        0      0      0  ...      0      0      0      0      0      0   \n1        0      0      2  ...    102     96     74     77     63     47   \n2        0      0      0  ...      0      0      2      3      2      1   \n3        0      0      0  ...      0      0      0      0      0      0   \n4        0      0      0  ...      0      1      0      1      0      0   \n..     ...    ...    ...  ...    ...    ...    ...    ...    ...    ...   \n940      0      0      0  ...      0      0      0      0      0      0   \n941      0      0      0  ...      0      0      0      0      0      0   \n942      0      0      1  ...      2      5      3      4      0      2   \n943      0      0      0  ...      0      0      0      0      0      0   \n944      0      0      0  ...      0      0      0      0      0      0   \n\n     80-84  85-89  90+  All ages  \n0        0      0    0         0  \n1       30     10    4       714  \n2        0      0    0         8  \n3        0      0    0         0  \n4        0      0    0         2  \n..     ...    ...  ...       ...  \n940      0      0    0         0  \n941      0      0    0         0  \n942      0      0    0        36  \n943      0      0    0         1  \n944      0      0    0         0  \n\n[945 rows x 25 columns]",
      "text/html": "<div>\n<style scoped>\n    .dataframe tbody tr th:only-of-type {\n        vertical-align: middle;\n    }\n\n    .dataframe tbody tr th {\n        vertical-align: top;\n    }\n\n    .dataframe thead th {\n        text-align: right;\n    }\n</style>\n<table border=\"1\" class=\"dataframe\">\n  <thead>\n    <tr style=\"text-align: right;\">\n      <th></th>\n      <th>Year [note 3]</th>\n      <th>Sex</th>\n      <th>ICD-10 code</th>\n      <th>Individual cause of death description</th>\n      <th>&lt;1</th>\n      <th>01-04</th>\n      <th>05-09</th>\n      <th>10-14</th>\n      <th>15-19</th>\n      <th>20-24</th>\n      <th>...</th>\n      <th>50-54</th>\n      <th>55-59</th>\n      <th>60-64</th>\n      <th>65-69</th>\n      <th>70-74</th>\n      <th>75-79</th>\n      <th>80-84</th>\n      <th>85-89</th>\n      <th>90+</th>\n      <th>All ages</th>\n    </tr>\n  </thead>\n  <tbody>\n    <tr>\n      <th>0</th>\n      <td>2021</td>\n      <td>Persons</td>\n      <td>E24.4</td>\n      <td>Alcohol-induced pseudo-Cushing's syndrome</td>\n      <td>0</td>\n      <td>0</td>\n      <td>0</td>\n      <td>0</td>\n      <td>0</td>\n      <td>0</td>\n      <td>...</td>\n      <td>0</td>\n      <td>0</td>\n      <td>0</td>\n      <td>0</td>\n      <td>0</td>\n      <td>0</td>\n      <td>0</td>\n      <td>0</td>\n      <td>0</td>\n      <td>0</td>\n    </tr>\n    <tr>\n      <th>1</th>\n      <td>2021</td>\n      <td>Persons</td>\n      <td>F10</td>\n      <td>Mental and behavioural disorders due to the us...</td>\n      <td>0</td>\n      <td>0</td>\n      <td>0</td>\n      <td>0</td>\n      <td>0</td>\n      <td>2</td>\n      <td>...</td>\n      <td>102</td>\n      <td>96</td>\n      <td>74</td>\n      <td>77</td>\n      <td>63</td>\n      <td>47</td>\n      <td>30</td>\n      <td>10</td>\n      <td>4</td>\n      <td>714</td>\n    </tr>\n    <tr>\n      <th>2</th>\n      <td>2021</td>\n      <td>Persons</td>\n      <td>G31.2</td>\n      <td>Degeneration of nervous system due to alcohol</td>\n      <td>0</td>\n      <td>0</td>\n      <td>0</td>\n      <td>0</td>\n      <td>0</td>\n      <td>0</td>\n      <td>...</td>\n      <td>0</td>\n      <td>0</td>\n      <td>2</td>\n      <td>3</td>\n      <td>2</td>\n      <td>1</td>\n      <td>0</td>\n      <td>0</td>\n      <td>0</td>\n      <td>8</td>\n    </tr>\n    <tr>\n      <th>3</th>\n      <td>2021</td>\n      <td>Persons</td>\n      <td>G62.1</td>\n      <td>Alcoholic polyneuropathy</td>\n      <td>0</td>\n      <td>0</td>\n      <td>0</td>\n      <td>0</td>\n      <td>0</td>\n      <td>0</td>\n      <td>...</td>\n      <td>0</td>\n      <td>0</td>\n      <td>0</td>\n      <td>0</td>\n      <td>0</td>\n      <td>0</td>\n      <td>0</td>\n      <td>0</td>\n      <td>0</td>\n      <td>0</td>\n    </tr>\n    <tr>\n      <th>4</th>\n      <td>2021</td>\n      <td>Persons</td>\n      <td>G72.1</td>\n      <td>Alcoholic myopathy</td>\n      <td>0</td>\n      <td>0</td>\n      <td>0</td>\n      <td>0</td>\n      <td>0</td>\n      <td>0</td>\n      <td>...</td>\n      <td>0</td>\n      <td>1</td>\n      <td>0</td>\n      <td>1</td>\n      <td>0</td>\n      <td>0</td>\n      <td>0</td>\n      <td>0</td>\n      <td>0</td>\n      <td>2</td>\n    </tr>\n    <tr>\n      <th>...</th>\n      <td>...</td>\n      <td>...</td>\n      <td>...</td>\n      <td>...</td>\n      <td>...</td>\n      <td>...</td>\n      <td>...</td>\n      <td>...</td>\n      <td>...</td>\n      <td>...</td>\n      <td>...</td>\n      <td>...</td>\n      <td>...</td>\n      <td>...</td>\n      <td>...</td>\n      <td>...</td>\n      <td>...</td>\n      <td>...</td>\n      <td>...</td>\n      <td>...</td>\n      <td>...</td>\n    </tr>\n    <tr>\n      <th>940</th>\n      <td>2001</td>\n      <td>Females</td>\n      <td>Q86.0</td>\n      <td>Fetal alcohol syndrome (dysmorphic)</td>\n      <td>0</td>\n      <td>0</td>\n      <td>0</td>\n      <td>0</td>\n      <td>0</td>\n      <td>0</td>\n      <td>...</td>\n      <td>0</td>\n      <td>0</td>\n      <td>0</td>\n      <td>0</td>\n      <td>0</td>\n      <td>0</td>\n      <td>0</td>\n      <td>0</td>\n      <td>0</td>\n      <td>0</td>\n    </tr>\n    <tr>\n      <th>941</th>\n      <td>2001</td>\n      <td>Females</td>\n      <td>R78.0</td>\n      <td>Excess alcohol blood levels</td>\n      <td>0</td>\n      <td>0</td>\n      <td>0</td>\n      <td>0</td>\n      <td>0</td>\n      <td>0</td>\n      <td>...</td>\n      <td>0</td>\n      <td>0</td>\n      <td>0</td>\n      <td>0</td>\n      <td>0</td>\n      <td>0</td>\n      <td>0</td>\n      <td>0</td>\n      <td>0</td>\n      <td>0</td>\n    </tr>\n    <tr>\n      <th>942</th>\n      <td>2001</td>\n      <td>Females</td>\n      <td>X45</td>\n      <td>Accidental poisoning by and exposure to alcohol</td>\n      <td>0</td>\n      <td>0</td>\n      <td>0</td>\n      <td>0</td>\n      <td>0</td>\n      <td>1</td>\n      <td>...</td>\n      <td>2</td>\n      <td>5</td>\n      <td>3</td>\n      <td>4</td>\n      <td>0</td>\n      <td>2</td>\n      <td>0</td>\n      <td>0</td>\n      <td>0</td>\n      <td>36</td>\n    </tr>\n    <tr>\n      <th>943</th>\n      <td>2001</td>\n      <td>Females</td>\n      <td>X65</td>\n      <td>Intentional self-poisoning by and exposure to ...</td>\n      <td>0</td>\n      <td>0</td>\n      <td>0</td>\n      <td>0</td>\n      <td>0</td>\n      <td>0</td>\n      <td>...</td>\n      <td>0</td>\n      <td>0</td>\n      <td>0</td>\n      <td>0</td>\n      <td>0</td>\n      <td>0</td>\n      <td>0</td>\n      <td>0</td>\n      <td>0</td>\n      <td>1</td>\n    </tr>\n    <tr>\n      <th>944</th>\n      <td>2001</td>\n      <td>Females</td>\n      <td>Y15</td>\n      <td>Poisoning by and exposure to alcohol, undeterm...</td>\n      <td>0</td>\n      <td>0</td>\n      <td>0</td>\n      <td>0</td>\n      <td>0</td>\n      <td>0</td>\n      <td>...</td>\n      <td>0</td>\n      <td>0</td>\n      <td>0</td>\n      <td>0</td>\n      <td>0</td>\n      <td>0</td>\n      <td>0</td>\n      <td>0</td>\n      <td>0</td>\n      <td>0</td>\n    </tr>\n  </tbody>\n</table>\n<p>945 rows × 25 columns</p>\n</div>"
     },
     "execution_count": 43,
     "metadata": {},
     "output_type": "execute_result"
    }
   ],
   "source": [
    "# View the data\n",
    "df2_England"
   ],
   "metadata": {
    "collapsed": false,
    "ExecuteTime": {
     "end_time": "2024-03-21T15:17:05.837601Z",
     "start_time": "2024-03-21T15:17:05.826613Z"
    }
   },
   "id": "d32036119220dc56",
   "execution_count": 43
  },
  {
   "cell_type": "code",
   "outputs": [
    {
     "data": {
      "text/plain": "     Year [note 3]      Sex ICD-10 code  \\\n0             2021  Persons       E24.4   \n1             2021  Persons         F10   \n2             2021  Persons       G31.2   \n3             2021  Persons       G62.1   \n4             2021  Persons       G72.1   \n..             ...      ...         ...   \n940           2001  Females       Q86.0   \n941           2001  Females       R78.0   \n942           2001  Females         X45   \n943           2001  Females         X65   \n944           2001  Females         Y15   \n\n                 Individual cause of death description  <1  01-04  05-09  \\\n0            Alcohol-induced pseudo-Cushing's syndrome   0      0      0   \n1    Mental and behavioural disorders due to the us...   0      0      0   \n2        Degeneration of nervous system due to alcohol   0      0      0   \n3                             Alcoholic polyneuropathy   0      0      0   \n4                                   Alcoholic myopathy   0      0      0   \n..                                                 ...  ..    ...    ...   \n940                Fetal alcohol syndrome (dysmorphic)   0      0      0   \n941                        Excess alcohol blood levels   0      0      0   \n942    Accidental poisoning by and exposure to alcohol   0      0      0   \n943  Intentional self-poisoning by and exposure to ...   0      0      0   \n944  Poisoning by and exposure to alcohol, undeterm...   0      0      0   \n\n     10-14  15-19  20-24  ...  50-54  55-59  60-64  65-69  70-74  75-79  \\\n0        0      0      0  ...      0      0      0      0      0      0   \n1        0      0      0  ...      3      7      5      9      1      3   \n2        0      0      0  ...      0      0      1      0      0      0   \n3        0      0      0  ...      0      0      0      0      0      0   \n4        0      0      0  ...      0      0      0      0      0      0   \n..     ...    ...    ...  ...    ...    ...    ...    ...    ...    ...   \n940      0      0      0  ...      0      0      0      0      0      0   \n941      0      0      0  ...      0      0      0      0      0      0   \n942      0      0      0  ...      0      0      1      0      1      0   \n943      0      0      0  ...      0      0      0      0      0      0   \n944      0      0      0  ...      1      0      0      0      0      0   \n\n     80-84  85-89  90+  All ages  \n0        0      0    0         0  \n1        0      0    0        36  \n2        0      0    0         1  \n3        0      0    0         0  \n4        0      0    0         0  \n..     ...    ...  ...       ...  \n940      0      0    0         0  \n941      0      0    0         0  \n942      0      0    0         4  \n943      0      0    0         0  \n944      0      0    0         1  \n\n[945 rows x 25 columns]",
      "text/html": "<div>\n<style scoped>\n    .dataframe tbody tr th:only-of-type {\n        vertical-align: middle;\n    }\n\n    .dataframe tbody tr th {\n        vertical-align: top;\n    }\n\n    .dataframe thead th {\n        text-align: right;\n    }\n</style>\n<table border=\"1\" class=\"dataframe\">\n  <thead>\n    <tr style=\"text-align: right;\">\n      <th></th>\n      <th>Year [note 3]</th>\n      <th>Sex</th>\n      <th>ICD-10 code</th>\n      <th>Individual cause of death description</th>\n      <th>&lt;1</th>\n      <th>01-04</th>\n      <th>05-09</th>\n      <th>10-14</th>\n      <th>15-19</th>\n      <th>20-24</th>\n      <th>...</th>\n      <th>50-54</th>\n      <th>55-59</th>\n      <th>60-64</th>\n      <th>65-69</th>\n      <th>70-74</th>\n      <th>75-79</th>\n      <th>80-84</th>\n      <th>85-89</th>\n      <th>90+</th>\n      <th>All ages</th>\n    </tr>\n  </thead>\n  <tbody>\n    <tr>\n      <th>0</th>\n      <td>2021</td>\n      <td>Persons</td>\n      <td>E24.4</td>\n      <td>Alcohol-induced pseudo-Cushing's syndrome</td>\n      <td>0</td>\n      <td>0</td>\n      <td>0</td>\n      <td>0</td>\n      <td>0</td>\n      <td>0</td>\n      <td>...</td>\n      <td>0</td>\n      <td>0</td>\n      <td>0</td>\n      <td>0</td>\n      <td>0</td>\n      <td>0</td>\n      <td>0</td>\n      <td>0</td>\n      <td>0</td>\n      <td>0</td>\n    </tr>\n    <tr>\n      <th>1</th>\n      <td>2021</td>\n      <td>Persons</td>\n      <td>F10</td>\n      <td>Mental and behavioural disorders due to the us...</td>\n      <td>0</td>\n      <td>0</td>\n      <td>0</td>\n      <td>0</td>\n      <td>0</td>\n      <td>0</td>\n      <td>...</td>\n      <td>3</td>\n      <td>7</td>\n      <td>5</td>\n      <td>9</td>\n      <td>1</td>\n      <td>3</td>\n      <td>0</td>\n      <td>0</td>\n      <td>0</td>\n      <td>36</td>\n    </tr>\n    <tr>\n      <th>2</th>\n      <td>2021</td>\n      <td>Persons</td>\n      <td>G31.2</td>\n      <td>Degeneration of nervous system due to alcohol</td>\n      <td>0</td>\n      <td>0</td>\n      <td>0</td>\n      <td>0</td>\n      <td>0</td>\n      <td>0</td>\n      <td>...</td>\n      <td>0</td>\n      <td>0</td>\n      <td>1</td>\n      <td>0</td>\n      <td>0</td>\n      <td>0</td>\n      <td>0</td>\n      <td>0</td>\n      <td>0</td>\n      <td>1</td>\n    </tr>\n    <tr>\n      <th>3</th>\n      <td>2021</td>\n      <td>Persons</td>\n      <td>G62.1</td>\n      <td>Alcoholic polyneuropathy</td>\n      <td>0</td>\n      <td>0</td>\n      <td>0</td>\n      <td>0</td>\n      <td>0</td>\n      <td>0</td>\n      <td>...</td>\n      <td>0</td>\n      <td>0</td>\n      <td>0</td>\n      <td>0</td>\n      <td>0</td>\n      <td>0</td>\n      <td>0</td>\n      <td>0</td>\n      <td>0</td>\n      <td>0</td>\n    </tr>\n    <tr>\n      <th>4</th>\n      <td>2021</td>\n      <td>Persons</td>\n      <td>G72.1</td>\n      <td>Alcoholic myopathy</td>\n      <td>0</td>\n      <td>0</td>\n      <td>0</td>\n      <td>0</td>\n      <td>0</td>\n      <td>0</td>\n      <td>...</td>\n      <td>0</td>\n      <td>0</td>\n      <td>0</td>\n      <td>0</td>\n      <td>0</td>\n      <td>0</td>\n      <td>0</td>\n      <td>0</td>\n      <td>0</td>\n      <td>0</td>\n    </tr>\n    <tr>\n      <th>...</th>\n      <td>...</td>\n      <td>...</td>\n      <td>...</td>\n      <td>...</td>\n      <td>...</td>\n      <td>...</td>\n      <td>...</td>\n      <td>...</td>\n      <td>...</td>\n      <td>...</td>\n      <td>...</td>\n      <td>...</td>\n      <td>...</td>\n      <td>...</td>\n      <td>...</td>\n      <td>...</td>\n      <td>...</td>\n      <td>...</td>\n      <td>...</td>\n      <td>...</td>\n      <td>...</td>\n    </tr>\n    <tr>\n      <th>940</th>\n      <td>2001</td>\n      <td>Females</td>\n      <td>Q86.0</td>\n      <td>Fetal alcohol syndrome (dysmorphic)</td>\n      <td>0</td>\n      <td>0</td>\n      <td>0</td>\n      <td>0</td>\n      <td>0</td>\n      <td>0</td>\n      <td>...</td>\n      <td>0</td>\n      <td>0</td>\n      <td>0</td>\n      <td>0</td>\n      <td>0</td>\n      <td>0</td>\n      <td>0</td>\n      <td>0</td>\n      <td>0</td>\n      <td>0</td>\n    </tr>\n    <tr>\n      <th>941</th>\n      <td>2001</td>\n      <td>Females</td>\n      <td>R78.0</td>\n      <td>Excess alcohol blood levels</td>\n      <td>0</td>\n      <td>0</td>\n      <td>0</td>\n      <td>0</td>\n      <td>0</td>\n      <td>0</td>\n      <td>...</td>\n      <td>0</td>\n      <td>0</td>\n      <td>0</td>\n      <td>0</td>\n      <td>0</td>\n      <td>0</td>\n      <td>0</td>\n      <td>0</td>\n      <td>0</td>\n      <td>0</td>\n    </tr>\n    <tr>\n      <th>942</th>\n      <td>2001</td>\n      <td>Females</td>\n      <td>X45</td>\n      <td>Accidental poisoning by and exposure to alcohol</td>\n      <td>0</td>\n      <td>0</td>\n      <td>0</td>\n      <td>0</td>\n      <td>0</td>\n      <td>0</td>\n      <td>...</td>\n      <td>0</td>\n      <td>0</td>\n      <td>1</td>\n      <td>0</td>\n      <td>1</td>\n      <td>0</td>\n      <td>0</td>\n      <td>0</td>\n      <td>0</td>\n      <td>4</td>\n    </tr>\n    <tr>\n      <th>943</th>\n      <td>2001</td>\n      <td>Females</td>\n      <td>X65</td>\n      <td>Intentional self-poisoning by and exposure to ...</td>\n      <td>0</td>\n      <td>0</td>\n      <td>0</td>\n      <td>0</td>\n      <td>0</td>\n      <td>0</td>\n      <td>...</td>\n      <td>0</td>\n      <td>0</td>\n      <td>0</td>\n      <td>0</td>\n      <td>0</td>\n      <td>0</td>\n      <td>0</td>\n      <td>0</td>\n      <td>0</td>\n      <td>0</td>\n    </tr>\n    <tr>\n      <th>944</th>\n      <td>2001</td>\n      <td>Females</td>\n      <td>Y15</td>\n      <td>Poisoning by and exposure to alcohol, undeterm...</td>\n      <td>0</td>\n      <td>0</td>\n      <td>0</td>\n      <td>0</td>\n      <td>0</td>\n      <td>0</td>\n      <td>...</td>\n      <td>1</td>\n      <td>0</td>\n      <td>0</td>\n      <td>0</td>\n      <td>0</td>\n      <td>0</td>\n      <td>0</td>\n      <td>0</td>\n      <td>0</td>\n      <td>1</td>\n    </tr>\n  </tbody>\n</table>\n<p>945 rows × 25 columns</p>\n</div>"
     },
     "execution_count": 44,
     "metadata": {},
     "output_type": "execute_result"
    }
   ],
   "source": [
    "# View the data\n",
    "df2_Wales"
   ],
   "metadata": {
    "collapsed": false,
    "ExecuteTime": {
     "end_time": "2024-03-21T15:17:05.848988Z",
     "start_time": "2024-03-21T15:17:05.838777Z"
    }
   },
   "id": "1b3c4a78edc45af0",
   "execution_count": 44
  },
  {
   "cell_type": "code",
   "outputs": [
    {
     "data": {
      "text/plain": "     Year [note 3]      Sex ICD-10 code  \\\n0             2021  Persons       E24.4   \n1             2021  Persons         F10   \n2             2021  Persons       G31.2   \n3             2021  Persons       G62.1   \n4             2021  Persons       G72.1   \n..             ...      ...         ...   \n940           2001  Females       Q86.0   \n941           2001  Females       R78.0   \n942           2001  Females         X45   \n943           2001  Females         X65   \n944           2001  Females         Y15   \n\n                 Individual cause of death description  <1  01-04  05-09  \\\n0            Alcohol-induced pseudo-Cushing's syndrome   0      0      0   \n1    Mental and behavioural disorders due to the us...   0      0      0   \n2        Degeneration of nervous system due to alcohol   0      0      0   \n3                             Alcoholic polyneuropathy   0      0      0   \n4                                   Alcoholic myopathy   0      0      0   \n..                                                 ...  ..    ...    ...   \n940                Fetal alcohol syndrome (dysmorphic)   0      0      0   \n941                        Excess alcohol blood levels   0      0      0   \n942    Accidental poisoning by and exposure to alcohol   0      0      0   \n943  Intentional self-poisoning by and exposure to ...   0      0      0   \n944  Poisoning by and exposure to alcohol, undeterm...   0      0      0   \n\n     10-14  15-19  20-24  ...  50-54  55-59  60-64  65-69  70-74  75-79  \\\n0        0      0      0  ...      0      0      0      0      0      0   \n1        0      0      0  ...     51     52     59     53     32     18   \n2        0      0      0  ...      0      0      0      0      1      0   \n3        0      0      0  ...      0      1      0      0      0      0   \n4        0      0      0  ...      0      0      0      0      0      0   \n..     ...    ...    ...  ...    ...    ...    ...    ...    ...    ...   \n940      0      0      0  ...      0      0      0      0      0      0   \n941      0      0      0  ...      0      0      0      0      0      0   \n942      0      0      0  ...      0      0      0      0      0      0   \n943      0      0      0  ...      0      0      0      0      0      0   \n944      0      0      0  ...      0      0      0      0      0      0   \n\n     80-84  85-89  90+  All ages  \n0        0      0    0         0  \n1        7      9    3       348  \n2        1      0    0         2  \n3        0      0    0         1  \n4        0      0    0         0  \n..     ...    ...  ...       ...  \n940      0      0    0         0  \n941      0      0    0         0  \n942      0      0    0         0  \n943      0      0    0         0  \n944      0      0    0         0  \n\n[945 rows x 25 columns]",
      "text/html": "<div>\n<style scoped>\n    .dataframe tbody tr th:only-of-type {\n        vertical-align: middle;\n    }\n\n    .dataframe tbody tr th {\n        vertical-align: top;\n    }\n\n    .dataframe thead th {\n        text-align: right;\n    }\n</style>\n<table border=\"1\" class=\"dataframe\">\n  <thead>\n    <tr style=\"text-align: right;\">\n      <th></th>\n      <th>Year [note 3]</th>\n      <th>Sex</th>\n      <th>ICD-10 code</th>\n      <th>Individual cause of death description</th>\n      <th>&lt;1</th>\n      <th>01-04</th>\n      <th>05-09</th>\n      <th>10-14</th>\n      <th>15-19</th>\n      <th>20-24</th>\n      <th>...</th>\n      <th>50-54</th>\n      <th>55-59</th>\n      <th>60-64</th>\n      <th>65-69</th>\n      <th>70-74</th>\n      <th>75-79</th>\n      <th>80-84</th>\n      <th>85-89</th>\n      <th>90+</th>\n      <th>All ages</th>\n    </tr>\n  </thead>\n  <tbody>\n    <tr>\n      <th>0</th>\n      <td>2021</td>\n      <td>Persons</td>\n      <td>E24.4</td>\n      <td>Alcohol-induced pseudo-Cushing's syndrome</td>\n      <td>0</td>\n      <td>0</td>\n      <td>0</td>\n      <td>0</td>\n      <td>0</td>\n      <td>0</td>\n      <td>...</td>\n      <td>0</td>\n      <td>0</td>\n      <td>0</td>\n      <td>0</td>\n      <td>0</td>\n      <td>0</td>\n      <td>0</td>\n      <td>0</td>\n      <td>0</td>\n      <td>0</td>\n    </tr>\n    <tr>\n      <th>1</th>\n      <td>2021</td>\n      <td>Persons</td>\n      <td>F10</td>\n      <td>Mental and behavioural disorders due to the us...</td>\n      <td>0</td>\n      <td>0</td>\n      <td>0</td>\n      <td>0</td>\n      <td>0</td>\n      <td>0</td>\n      <td>...</td>\n      <td>51</td>\n      <td>52</td>\n      <td>59</td>\n      <td>53</td>\n      <td>32</td>\n      <td>18</td>\n      <td>7</td>\n      <td>9</td>\n      <td>3</td>\n      <td>348</td>\n    </tr>\n    <tr>\n      <th>2</th>\n      <td>2021</td>\n      <td>Persons</td>\n      <td>G31.2</td>\n      <td>Degeneration of nervous system due to alcohol</td>\n      <td>0</td>\n      <td>0</td>\n      <td>0</td>\n      <td>0</td>\n      <td>0</td>\n      <td>0</td>\n      <td>...</td>\n      <td>0</td>\n      <td>0</td>\n      <td>0</td>\n      <td>0</td>\n      <td>1</td>\n      <td>0</td>\n      <td>1</td>\n      <td>0</td>\n      <td>0</td>\n      <td>2</td>\n    </tr>\n    <tr>\n      <th>3</th>\n      <td>2021</td>\n      <td>Persons</td>\n      <td>G62.1</td>\n      <td>Alcoholic polyneuropathy</td>\n      <td>0</td>\n      <td>0</td>\n      <td>0</td>\n      <td>0</td>\n      <td>0</td>\n      <td>0</td>\n      <td>...</td>\n      <td>0</td>\n      <td>1</td>\n      <td>0</td>\n      <td>0</td>\n      <td>0</td>\n      <td>0</td>\n      <td>0</td>\n      <td>0</td>\n      <td>0</td>\n      <td>1</td>\n    </tr>\n    <tr>\n      <th>4</th>\n      <td>2021</td>\n      <td>Persons</td>\n      <td>G72.1</td>\n      <td>Alcoholic myopathy</td>\n      <td>0</td>\n      <td>0</td>\n      <td>0</td>\n      <td>0</td>\n      <td>0</td>\n      <td>0</td>\n      <td>...</td>\n      <td>0</td>\n      <td>0</td>\n      <td>0</td>\n      <td>0</td>\n      <td>0</td>\n      <td>0</td>\n      <td>0</td>\n      <td>0</td>\n      <td>0</td>\n      <td>0</td>\n    </tr>\n    <tr>\n      <th>...</th>\n      <td>...</td>\n      <td>...</td>\n      <td>...</td>\n      <td>...</td>\n      <td>...</td>\n      <td>...</td>\n      <td>...</td>\n      <td>...</td>\n      <td>...</td>\n      <td>...</td>\n      <td>...</td>\n      <td>...</td>\n      <td>...</td>\n      <td>...</td>\n      <td>...</td>\n      <td>...</td>\n      <td>...</td>\n      <td>...</td>\n      <td>...</td>\n      <td>...</td>\n      <td>...</td>\n    </tr>\n    <tr>\n      <th>940</th>\n      <td>2001</td>\n      <td>Females</td>\n      <td>Q86.0</td>\n      <td>Fetal alcohol syndrome (dysmorphic)</td>\n      <td>0</td>\n      <td>0</td>\n      <td>0</td>\n      <td>0</td>\n      <td>0</td>\n      <td>0</td>\n      <td>...</td>\n      <td>0</td>\n      <td>0</td>\n      <td>0</td>\n      <td>0</td>\n      <td>0</td>\n      <td>0</td>\n      <td>0</td>\n      <td>0</td>\n      <td>0</td>\n      <td>0</td>\n    </tr>\n    <tr>\n      <th>941</th>\n      <td>2001</td>\n      <td>Females</td>\n      <td>R78.0</td>\n      <td>Excess alcohol blood levels</td>\n      <td>0</td>\n      <td>0</td>\n      <td>0</td>\n      <td>0</td>\n      <td>0</td>\n      <td>0</td>\n      <td>...</td>\n      <td>0</td>\n      <td>0</td>\n      <td>0</td>\n      <td>0</td>\n      <td>0</td>\n      <td>0</td>\n      <td>0</td>\n      <td>0</td>\n      <td>0</td>\n      <td>0</td>\n    </tr>\n    <tr>\n      <th>942</th>\n      <td>2001</td>\n      <td>Females</td>\n      <td>X45</td>\n      <td>Accidental poisoning by and exposure to alcohol</td>\n      <td>0</td>\n      <td>0</td>\n      <td>0</td>\n      <td>0</td>\n      <td>0</td>\n      <td>0</td>\n      <td>...</td>\n      <td>0</td>\n      <td>0</td>\n      <td>0</td>\n      <td>0</td>\n      <td>0</td>\n      <td>0</td>\n      <td>0</td>\n      <td>0</td>\n      <td>0</td>\n      <td>0</td>\n    </tr>\n    <tr>\n      <th>943</th>\n      <td>2001</td>\n      <td>Females</td>\n      <td>X65</td>\n      <td>Intentional self-poisoning by and exposure to ...</td>\n      <td>0</td>\n      <td>0</td>\n      <td>0</td>\n      <td>0</td>\n      <td>0</td>\n      <td>0</td>\n      <td>...</td>\n      <td>0</td>\n      <td>0</td>\n      <td>0</td>\n      <td>0</td>\n      <td>0</td>\n      <td>0</td>\n      <td>0</td>\n      <td>0</td>\n      <td>0</td>\n      <td>0</td>\n    </tr>\n    <tr>\n      <th>944</th>\n      <td>2001</td>\n      <td>Females</td>\n      <td>Y15</td>\n      <td>Poisoning by and exposure to alcohol, undeterm...</td>\n      <td>0</td>\n      <td>0</td>\n      <td>0</td>\n      <td>0</td>\n      <td>0</td>\n      <td>0</td>\n      <td>...</td>\n      <td>0</td>\n      <td>0</td>\n      <td>0</td>\n      <td>0</td>\n      <td>0</td>\n      <td>0</td>\n      <td>0</td>\n      <td>0</td>\n      <td>0</td>\n      <td>0</td>\n    </tr>\n  </tbody>\n</table>\n<p>945 rows × 25 columns</p>\n</div>"
     },
     "execution_count": 45,
     "metadata": {},
     "output_type": "execute_result"
    }
   ],
   "source": [
    "# View the data\n",
    "df2_Scotland"
   ],
   "metadata": {
    "collapsed": false,
    "ExecuteTime": {
     "end_time": "2024-03-21T15:17:05.863814Z",
     "start_time": "2024-03-21T15:17:05.852559Z"
    }
   },
   "id": "547c85322176a672",
   "execution_count": 45
  },
  {
   "cell_type": "code",
   "outputs": [
    {
     "data": {
      "text/plain": "     Year [note 3]      Sex ICD-10 code  \\\n0             2021  Persons       E24.4   \n1             2021  Persons         F10   \n2             2021  Persons       G31.2   \n3             2021  Persons       G62.1   \n4             2021  Persons       G72.1   \n..             ...      ...         ...   \n934           2001  Females       Q86.0   \n935           2001  Females       R78.0   \n936           2001  Females         X45   \n937           2001  Females         X65   \n938           2001  Females         Y15   \n\n                 Individual cause of death description  <1  01-04  05-09  \\\n0            Alcohol-induced pseudo-Cushing's syndrome   0      0      0   \n1    Mental and behavioural disorders due to the us...   0      0      0   \n2        Degeneration of nervous system due to alcohol   0      0      0   \n3                             Alcoholic polyneuropathy   0      0      0   \n4                                   Alcoholic myopathy   0      0      0   \n..                                                 ...  ..    ...    ...   \n934                Fetal alcohol syndrome (dysmorphic)   0      0      0   \n935                        Excess alcohol blood levels   0      0      0   \n936    Accidental poisoning by and exposure to alcohol   0      0      0   \n937  Intentional self-poisoning by and exposure to ...   0      0      0   \n938  Poisoning by and exposure to alcohol, undeterm...   0      0      0   \n\n     10-14  15-19  20-24  ...  50-54  55-59  60-64  65-69  70-74  75-79  \\\n0        0      0      0  ...      0      0      0      0      0      0   \n1        0      0      0  ...     10     15     10      8      2      3   \n2        0      0      0  ...      0      0      0      0      0      0   \n3        0      0      0  ...      0      0      0      0      0      0   \n4        0      0      0  ...      0      0      0      0      0      0   \n..     ...    ...    ...  ...    ...    ...    ...    ...    ...    ...   \n934      0      0      0  ...      0      0      0      0      0      0   \n935      0      0      0  ...      0      0      0      0      0      0   \n936      0      0      0  ...      0      0      0      0      0      0   \n937      0      0      0  ...      0      0      0      0      0      0   \n938      0      0      0  ...      0      0      0      0      0      0   \n\n     80-84  85-89  90+  All ages  \n0        0      0    0         0  \n1        4      1    0        68  \n2        0      0    0         0  \n3        0      0    0         0  \n4        0      0    0         0  \n..     ...    ...  ...       ...  \n934      0      0    0         0  \n935      0      0    0         0  \n936      0      0    0         1  \n937      0      0    0         0  \n938      0      0    0         0  \n\n[939 rows x 25 columns]",
      "text/html": "<div>\n<style scoped>\n    .dataframe tbody tr th:only-of-type {\n        vertical-align: middle;\n    }\n\n    .dataframe tbody tr th {\n        vertical-align: top;\n    }\n\n    .dataframe thead th {\n        text-align: right;\n    }\n</style>\n<table border=\"1\" class=\"dataframe\">\n  <thead>\n    <tr style=\"text-align: right;\">\n      <th></th>\n      <th>Year [note 3]</th>\n      <th>Sex</th>\n      <th>ICD-10 code</th>\n      <th>Individual cause of death description</th>\n      <th>&lt;1</th>\n      <th>01-04</th>\n      <th>05-09</th>\n      <th>10-14</th>\n      <th>15-19</th>\n      <th>20-24</th>\n      <th>...</th>\n      <th>50-54</th>\n      <th>55-59</th>\n      <th>60-64</th>\n      <th>65-69</th>\n      <th>70-74</th>\n      <th>75-79</th>\n      <th>80-84</th>\n      <th>85-89</th>\n      <th>90+</th>\n      <th>All ages</th>\n    </tr>\n  </thead>\n  <tbody>\n    <tr>\n      <th>0</th>\n      <td>2021</td>\n      <td>Persons</td>\n      <td>E24.4</td>\n      <td>Alcohol-induced pseudo-Cushing's syndrome</td>\n      <td>0</td>\n      <td>0</td>\n      <td>0</td>\n      <td>0</td>\n      <td>0</td>\n      <td>0</td>\n      <td>...</td>\n      <td>0</td>\n      <td>0</td>\n      <td>0</td>\n      <td>0</td>\n      <td>0</td>\n      <td>0</td>\n      <td>0</td>\n      <td>0</td>\n      <td>0</td>\n      <td>0</td>\n    </tr>\n    <tr>\n      <th>1</th>\n      <td>2021</td>\n      <td>Persons</td>\n      <td>F10</td>\n      <td>Mental and behavioural disorders due to the us...</td>\n      <td>0</td>\n      <td>0</td>\n      <td>0</td>\n      <td>0</td>\n      <td>0</td>\n      <td>0</td>\n      <td>...</td>\n      <td>10</td>\n      <td>15</td>\n      <td>10</td>\n      <td>8</td>\n      <td>2</td>\n      <td>3</td>\n      <td>4</td>\n      <td>1</td>\n      <td>0</td>\n      <td>68</td>\n    </tr>\n    <tr>\n      <th>2</th>\n      <td>2021</td>\n      <td>Persons</td>\n      <td>G31.2</td>\n      <td>Degeneration of nervous system due to alcohol</td>\n      <td>0</td>\n      <td>0</td>\n      <td>0</td>\n      <td>0</td>\n      <td>0</td>\n      <td>0</td>\n      <td>...</td>\n      <td>0</td>\n      <td>0</td>\n      <td>0</td>\n      <td>0</td>\n      <td>0</td>\n      <td>0</td>\n      <td>0</td>\n      <td>0</td>\n      <td>0</td>\n      <td>0</td>\n    </tr>\n    <tr>\n      <th>3</th>\n      <td>2021</td>\n      <td>Persons</td>\n      <td>G62.1</td>\n      <td>Alcoholic polyneuropathy</td>\n      <td>0</td>\n      <td>0</td>\n      <td>0</td>\n      <td>0</td>\n      <td>0</td>\n      <td>0</td>\n      <td>...</td>\n      <td>0</td>\n      <td>0</td>\n      <td>0</td>\n      <td>0</td>\n      <td>0</td>\n      <td>0</td>\n      <td>0</td>\n      <td>0</td>\n      <td>0</td>\n      <td>0</td>\n    </tr>\n    <tr>\n      <th>4</th>\n      <td>2021</td>\n      <td>Persons</td>\n      <td>G72.1</td>\n      <td>Alcoholic myopathy</td>\n      <td>0</td>\n      <td>0</td>\n      <td>0</td>\n      <td>0</td>\n      <td>0</td>\n      <td>0</td>\n      <td>...</td>\n      <td>0</td>\n      <td>0</td>\n      <td>0</td>\n      <td>0</td>\n      <td>0</td>\n      <td>0</td>\n      <td>0</td>\n      <td>0</td>\n      <td>0</td>\n      <td>0</td>\n    </tr>\n    <tr>\n      <th>...</th>\n      <td>...</td>\n      <td>...</td>\n      <td>...</td>\n      <td>...</td>\n      <td>...</td>\n      <td>...</td>\n      <td>...</td>\n      <td>...</td>\n      <td>...</td>\n      <td>...</td>\n      <td>...</td>\n      <td>...</td>\n      <td>...</td>\n      <td>...</td>\n      <td>...</td>\n      <td>...</td>\n      <td>...</td>\n      <td>...</td>\n      <td>...</td>\n      <td>...</td>\n      <td>...</td>\n    </tr>\n    <tr>\n      <th>934</th>\n      <td>2001</td>\n      <td>Females</td>\n      <td>Q86.0</td>\n      <td>Fetal alcohol syndrome (dysmorphic)</td>\n      <td>0</td>\n      <td>0</td>\n      <td>0</td>\n      <td>0</td>\n      <td>0</td>\n      <td>0</td>\n      <td>...</td>\n      <td>0</td>\n      <td>0</td>\n      <td>0</td>\n      <td>0</td>\n      <td>0</td>\n      <td>0</td>\n      <td>0</td>\n      <td>0</td>\n      <td>0</td>\n      <td>0</td>\n    </tr>\n    <tr>\n      <th>935</th>\n      <td>2001</td>\n      <td>Females</td>\n      <td>R78.0</td>\n      <td>Excess alcohol blood levels</td>\n      <td>0</td>\n      <td>0</td>\n      <td>0</td>\n      <td>0</td>\n      <td>0</td>\n      <td>0</td>\n      <td>...</td>\n      <td>0</td>\n      <td>0</td>\n      <td>0</td>\n      <td>0</td>\n      <td>0</td>\n      <td>0</td>\n      <td>0</td>\n      <td>0</td>\n      <td>0</td>\n      <td>0</td>\n    </tr>\n    <tr>\n      <th>936</th>\n      <td>2001</td>\n      <td>Females</td>\n      <td>X45</td>\n      <td>Accidental poisoning by and exposure to alcohol</td>\n      <td>0</td>\n      <td>0</td>\n      <td>0</td>\n      <td>0</td>\n      <td>0</td>\n      <td>0</td>\n      <td>...</td>\n      <td>0</td>\n      <td>0</td>\n      <td>0</td>\n      <td>0</td>\n      <td>0</td>\n      <td>0</td>\n      <td>0</td>\n      <td>0</td>\n      <td>0</td>\n      <td>1</td>\n    </tr>\n    <tr>\n      <th>937</th>\n      <td>2001</td>\n      <td>Females</td>\n      <td>X65</td>\n      <td>Intentional self-poisoning by and exposure to ...</td>\n      <td>0</td>\n      <td>0</td>\n      <td>0</td>\n      <td>0</td>\n      <td>0</td>\n      <td>0</td>\n      <td>...</td>\n      <td>0</td>\n      <td>0</td>\n      <td>0</td>\n      <td>0</td>\n      <td>0</td>\n      <td>0</td>\n      <td>0</td>\n      <td>0</td>\n      <td>0</td>\n      <td>0</td>\n    </tr>\n    <tr>\n      <th>938</th>\n      <td>2001</td>\n      <td>Females</td>\n      <td>Y15</td>\n      <td>Poisoning by and exposure to alcohol, undeterm...</td>\n      <td>0</td>\n      <td>0</td>\n      <td>0</td>\n      <td>0</td>\n      <td>0</td>\n      <td>0</td>\n      <td>...</td>\n      <td>0</td>\n      <td>0</td>\n      <td>0</td>\n      <td>0</td>\n      <td>0</td>\n      <td>0</td>\n      <td>0</td>\n      <td>0</td>\n      <td>0</td>\n      <td>0</td>\n    </tr>\n  </tbody>\n</table>\n<p>939 rows × 25 columns</p>\n</div>"
     },
     "execution_count": 46,
     "metadata": {},
     "output_type": "execute_result"
    }
   ],
   "source": [
    "# View the data\n",
    "df2_Northern_Ireland"
   ],
   "metadata": {
    "collapsed": false,
    "ExecuteTime": {
     "end_time": "2024-03-21T15:17:05.878791Z",
     "start_time": "2024-03-21T15:17:05.864923Z"
    }
   },
   "id": "f57708e905c54313",
   "execution_count": 46
  },
  {
   "cell_type": "code",
   "outputs": [
    {
     "data": {
      "text/plain": "     Area code   Area name      Sex  Year [note 3]  Number of deaths  \\\n0    E12000001  North East  Females           2001                96   \n1    E12000001  North East    Males           2001               165   \n2    E12000001  North East  Persons           2001               261   \n3    E12000001  North East  Females           2002                76   \n4    E12000001  North East    Males           2002               185   \n..         ...         ...      ...            ...               ...   \n940  W92000004       Wales    Males           2020               294   \n941  W92000004       Wales  Persons           2020               438   \n942  W92000004       Wales  Females           2021               147   \n943  W92000004       Wales    Males           2021               325   \n944  W92000004       Wales  Persons           2021               472   \n\n     Age-standardised rate per 100,000  Lower 95% confidence interval  \\\n0                                  7.8                            6.3   \n1                                 14.3                           12.1   \n2                                 10.9                            9.6   \n3                                  6.1                            4.8   \n4                                 15.8                           13.5   \n..                                 ...                            ...   \n940                               19.1                           16.9   \n941                               13.9                           12.6   \n942                                9.2                            7.7   \n943                               21.1                           18.8   \n944                               15.0                           13.6   \n\n     Upper 95% confidence interval  \n0                              9.5  \n1                             16.5  \n2                             12.2  \n3                              7.7  \n4                             18.1  \n..                             ...  \n940                           21.3  \n941                           15.2  \n942                           10.7  \n943                           23.4  \n944                           16.3  \n\n[945 rows x 8 columns]",
      "text/html": "<div>\n<style scoped>\n    .dataframe tbody tr th:only-of-type {\n        vertical-align: middle;\n    }\n\n    .dataframe tbody tr th {\n        vertical-align: top;\n    }\n\n    .dataframe thead th {\n        text-align: right;\n    }\n</style>\n<table border=\"1\" class=\"dataframe\">\n  <thead>\n    <tr style=\"text-align: right;\">\n      <th></th>\n      <th>Area code</th>\n      <th>Area name</th>\n      <th>Sex</th>\n      <th>Year [note 3]</th>\n      <th>Number of deaths</th>\n      <th>Age-standardised rate per 100,000</th>\n      <th>Lower 95% confidence interval</th>\n      <th>Upper 95% confidence interval</th>\n    </tr>\n  </thead>\n  <tbody>\n    <tr>\n      <th>0</th>\n      <td>E12000001</td>\n      <td>North East</td>\n      <td>Females</td>\n      <td>2001</td>\n      <td>96</td>\n      <td>7.8</td>\n      <td>6.3</td>\n      <td>9.5</td>\n    </tr>\n    <tr>\n      <th>1</th>\n      <td>E12000001</td>\n      <td>North East</td>\n      <td>Males</td>\n      <td>2001</td>\n      <td>165</td>\n      <td>14.3</td>\n      <td>12.1</td>\n      <td>16.5</td>\n    </tr>\n    <tr>\n      <th>2</th>\n      <td>E12000001</td>\n      <td>North East</td>\n      <td>Persons</td>\n      <td>2001</td>\n      <td>261</td>\n      <td>10.9</td>\n      <td>9.6</td>\n      <td>12.2</td>\n    </tr>\n    <tr>\n      <th>3</th>\n      <td>E12000001</td>\n      <td>North East</td>\n      <td>Females</td>\n      <td>2002</td>\n      <td>76</td>\n      <td>6.1</td>\n      <td>4.8</td>\n      <td>7.7</td>\n    </tr>\n    <tr>\n      <th>4</th>\n      <td>E12000001</td>\n      <td>North East</td>\n      <td>Males</td>\n      <td>2002</td>\n      <td>185</td>\n      <td>15.8</td>\n      <td>13.5</td>\n      <td>18.1</td>\n    </tr>\n    <tr>\n      <th>...</th>\n      <td>...</td>\n      <td>...</td>\n      <td>...</td>\n      <td>...</td>\n      <td>...</td>\n      <td>...</td>\n      <td>...</td>\n      <td>...</td>\n    </tr>\n    <tr>\n      <th>940</th>\n      <td>W92000004</td>\n      <td>Wales</td>\n      <td>Males</td>\n      <td>2020</td>\n      <td>294</td>\n      <td>19.1</td>\n      <td>16.9</td>\n      <td>21.3</td>\n    </tr>\n    <tr>\n      <th>941</th>\n      <td>W92000004</td>\n      <td>Wales</td>\n      <td>Persons</td>\n      <td>2020</td>\n      <td>438</td>\n      <td>13.9</td>\n      <td>12.6</td>\n      <td>15.2</td>\n    </tr>\n    <tr>\n      <th>942</th>\n      <td>W92000004</td>\n      <td>Wales</td>\n      <td>Females</td>\n      <td>2021</td>\n      <td>147</td>\n      <td>9.2</td>\n      <td>7.7</td>\n      <td>10.7</td>\n    </tr>\n    <tr>\n      <th>943</th>\n      <td>W92000004</td>\n      <td>Wales</td>\n      <td>Males</td>\n      <td>2021</td>\n      <td>325</td>\n      <td>21.1</td>\n      <td>18.8</td>\n      <td>23.4</td>\n    </tr>\n    <tr>\n      <th>944</th>\n      <td>W92000004</td>\n      <td>Wales</td>\n      <td>Persons</td>\n      <td>2021</td>\n      <td>472</td>\n      <td>15.0</td>\n      <td>13.6</td>\n      <td>16.3</td>\n    </tr>\n  </tbody>\n</table>\n<p>945 rows × 8 columns</p>\n</div>"
     },
     "execution_count": 47,
     "metadata": {},
     "output_type": "execute_result"
    }
   ],
   "source": [
    "# View the data\n",
    "df3"
   ],
   "metadata": {
    "collapsed": false,
    "ExecuteTime": {
     "end_time": "2024-03-21T15:17:05.888914Z",
     "start_time": "2024-03-21T15:17:05.879828Z"
    }
   },
   "id": "b4efe4c7d51e8d92",
   "execution_count": 47
  },
  {
   "cell_type": "code",
   "outputs": [
    {
     "name": "stdout",
     "output_type": "stream",
     "text": [
      "<class 'pandas.core.frame.DataFrame'>\n",
      "RangeIndex: 945 entries, 0 to 944\n",
      "Data columns (total 25 columns):\n",
      " #   Column                                 Non-Null Count  Dtype \n",
      "---  ------                                 --------------  ----- \n",
      " 0   Year [note 3]                          945 non-null    int64 \n",
      " 1   Sex                                    945 non-null    object\n",
      " 2   ICD-10 code                            945 non-null    object\n",
      " 3   Individual cause of death description  945 non-null    object\n",
      " 4   <1                                     945 non-null    int64 \n",
      " 5   01-04                                  945 non-null    int64 \n",
      " 6   05-09                                  945 non-null    int64 \n",
      " 7   10-14                                  945 non-null    int64 \n",
      " 8   15-19                                  945 non-null    int64 \n",
      " 9   20-24                                  945 non-null    int64 \n",
      " 10  25-29                                  945 non-null    int64 \n",
      " 11  30-34                                  945 non-null    int64 \n",
      " 12  35-39                                  945 non-null    int64 \n",
      " 13  40-44                                  945 non-null    int64 \n",
      " 14  45-49                                  945 non-null    int64 \n",
      " 15  50-54                                  945 non-null    int64 \n",
      " 16  55-59                                  945 non-null    int64 \n",
      " 17  60-64                                  945 non-null    int64 \n",
      " 18  65-69                                  945 non-null    int64 \n",
      " 19  70-74                                  945 non-null    int64 \n",
      " 20  75-79                                  945 non-null    int64 \n",
      " 21  80-84                                  945 non-null    int64 \n",
      " 22  85-89                                  945 non-null    int64 \n",
      " 23  90+                                    945 non-null    int64 \n",
      " 24  All ages                               945 non-null    int64 \n",
      "dtypes: int64(22), object(3)\n",
      "memory usage: 184.7+ KB\n",
      "<class 'pandas.core.frame.DataFrame'>\n",
      "RangeIndex: 945 entries, 0 to 944\n",
      "Data columns (total 25 columns):\n",
      " #   Column                                 Non-Null Count  Dtype \n",
      "---  ------                                 --------------  ----- \n",
      " 0   Year [note 3]                          945 non-null    int64 \n",
      " 1   Sex                                    945 non-null    object\n",
      " 2   ICD-10 code                            945 non-null    object\n",
      " 3   Individual cause of death description  945 non-null    object\n",
      " 4   <1                                     945 non-null    int64 \n",
      " 5   01-04                                  945 non-null    int64 \n",
      " 6   05-09                                  945 non-null    int64 \n",
      " 7   10-14                                  945 non-null    int64 \n",
      " 8   15-19                                  945 non-null    int64 \n",
      " 9   20-24                                  945 non-null    int64 \n",
      " 10  25-29                                  945 non-null    int64 \n",
      " 11  30-34                                  945 non-null    int64 \n",
      " 12  35-39                                  945 non-null    int64 \n",
      " 13  40-44                                  945 non-null    int64 \n",
      " 14  45-49                                  945 non-null    int64 \n",
      " 15  50-54                                  945 non-null    int64 \n",
      " 16  55-59                                  945 non-null    int64 \n",
      " 17  60-64                                  945 non-null    int64 \n",
      " 18  65-69                                  945 non-null    int64 \n",
      " 19  70-74                                  945 non-null    int64 \n",
      " 20  75-79                                  945 non-null    int64 \n",
      " 21  80-84                                  945 non-null    int64 \n",
      " 22  85-89                                  945 non-null    int64 \n",
      " 23  90+                                    945 non-null    int64 \n",
      " 24  All ages                               945 non-null    int64 \n",
      "dtypes: int64(22), object(3)\n",
      "memory usage: 184.7+ KB\n",
      "<class 'pandas.core.frame.DataFrame'>\n",
      "RangeIndex: 945 entries, 0 to 944\n",
      "Data columns (total 25 columns):\n",
      " #   Column                                 Non-Null Count  Dtype \n",
      "---  ------                                 --------------  ----- \n",
      " 0   Year [note 3]                          945 non-null    int64 \n",
      " 1   Sex                                    945 non-null    object\n",
      " 2   ICD-10 code                            945 non-null    object\n",
      " 3   Individual cause of death description  945 non-null    object\n",
      " 4   <1                                     945 non-null    int64 \n",
      " 5   01-04                                  945 non-null    int64 \n",
      " 6   05-09                                  945 non-null    int64 \n",
      " 7   10-14                                  945 non-null    int64 \n",
      " 8   15-19                                  945 non-null    int64 \n",
      " 9   20-24                                  945 non-null    int64 \n",
      " 10  25-29                                  945 non-null    int64 \n",
      " 11  30-34                                  945 non-null    int64 \n",
      " 12  35-39                                  945 non-null    int64 \n",
      " 13  40-44                                  945 non-null    int64 \n",
      " 14  45-49                                  945 non-null    int64 \n",
      " 15  50-54                                  945 non-null    int64 \n",
      " 16  55-59                                  945 non-null    int64 \n",
      " 17  60-64                                  945 non-null    int64 \n",
      " 18  65-69                                  945 non-null    int64 \n",
      " 19  70-74                                  945 non-null    int64 \n",
      " 20  75-79                                  945 non-null    int64 \n",
      " 21  80-84                                  945 non-null    int64 \n",
      " 22  85-89                                  945 non-null    int64 \n",
      " 23  90+                                    945 non-null    int64 \n",
      " 24  All ages                               945 non-null    int64 \n",
      "dtypes: int64(22), object(3)\n",
      "memory usage: 184.7+ KB\n",
      "<class 'pandas.core.frame.DataFrame'>\n",
      "RangeIndex: 939 entries, 0 to 938\n",
      "Data columns (total 25 columns):\n",
      " #   Column                                 Non-Null Count  Dtype \n",
      "---  ------                                 --------------  ----- \n",
      " 0   Year [note 3]                          939 non-null    int64 \n",
      " 1   Sex                                    939 non-null    object\n",
      " 2   ICD-10 code                            939 non-null    object\n",
      " 3   Individual cause of death description  939 non-null    object\n",
      " 4   <1                                     939 non-null    int64 \n",
      " 5   01-04                                  939 non-null    int64 \n",
      " 6   05-09                                  939 non-null    int64 \n",
      " 7   10-14                                  939 non-null    int64 \n",
      " 8   15-19                                  939 non-null    int64 \n",
      " 9   20-24                                  939 non-null    int64 \n",
      " 10  25-29                                  939 non-null    int64 \n",
      " 11  30-34                                  939 non-null    int64 \n",
      " 12  35-39                                  939 non-null    int64 \n",
      " 13  40-44                                  939 non-null    int64 \n",
      " 14  45-49                                  939 non-null    int64 \n",
      " 15  50-54                                  939 non-null    int64 \n",
      " 16  55-59                                  939 non-null    int64 \n",
      " 17  60-64                                  939 non-null    int64 \n",
      " 18  65-69                                  939 non-null    int64 \n",
      " 19  70-74                                  939 non-null    int64 \n",
      " 20  75-79                                  939 non-null    int64 \n",
      " 21  80-84                                  939 non-null    int64 \n",
      " 22  85-89                                  939 non-null    int64 \n",
      " 23  90+                                    939 non-null    int64 \n",
      " 24  All ages                               939 non-null    int64 \n",
      "dtypes: int64(22), object(3)\n",
      "memory usage: 183.5+ KB\n"
     ]
    },
    {
     "data": {
      "text/plain": "       Year [note 3]     <1  01-04  05-09  10-14       15-19       20-24  \\\ncount     939.000000  939.0  939.0  939.0  939.0  939.000000  939.000000   \nmean     2010.942492    0.0    0.0    0.0    0.0    0.006390    0.017039   \nstd         6.034804    0.0    0.0    0.0    0.0    0.079723    0.129487   \nmin      2001.000000    0.0    0.0    0.0    0.0    0.000000    0.000000   \n25%      2006.000000    0.0    0.0    0.0    0.0    0.000000    0.000000   \n50%      2011.000000    0.0    0.0    0.0    0.0    0.000000    0.000000   \n75%      2016.000000    0.0    0.0    0.0    0.0    0.000000    0.000000   \nmax      2021.000000    0.0    0.0    0.0    0.0    1.000000    1.000000   \n\n            25-29       30-34       35-39  ...       50-54       55-59  \\\ncount  939.000000  939.000000  939.000000  ...  939.000000  939.000000   \nmean     0.102236    0.247071    0.656017  ...    2.014909    1.929712   \nstd      0.383822    0.835436    1.889792  ...    5.983434    5.857163   \nmin      0.000000    0.000000    0.000000  ...    0.000000    0.000000   \n25%      0.000000    0.000000    0.000000  ...    0.000000    0.000000   \n50%      0.000000    0.000000    0.000000  ...    0.000000    0.000000   \n75%      0.000000    0.000000    0.000000  ...    0.000000    0.000000   \nmax      4.000000    7.000000   15.000000  ...   50.000000   64.000000   \n\n            60-64       65-69       70-74       75-79       80-84       85-89  \\\ncount  939.000000  939.000000  939.000000  939.000000  939.000000  939.000000   \nmean     1.439830    0.981896    0.538871    0.283280    0.104366    0.038339   \nstd      4.457015    3.036855    1.783402    1.088145    0.420392    0.197586   \nmin      0.000000    0.000000    0.000000    0.000000    0.000000    0.000000   \n25%      0.000000    0.000000    0.000000    0.000000    0.000000    0.000000   \n50%      0.000000    0.000000    0.000000    0.000000    0.000000    0.000000   \n75%      0.000000    0.000000    0.000000    0.000000    0.000000    0.000000   \nmax     40.000000   25.000000   20.000000   15.000000    4.000000    2.000000   \n\n              90+    All ages  \ncount  939.000000  939.000000  \nmean     0.008520   11.205538  \nstd      0.112785   31.821151  \nmin      0.000000    0.000000  \n25%      0.000000    0.000000  \n50%      0.000000    0.000000  \n75%      0.000000    2.000000  \nmax      2.000000  252.000000  \n\n[8 rows x 22 columns]",
      "text/html": "<div>\n<style scoped>\n    .dataframe tbody tr th:only-of-type {\n        vertical-align: middle;\n    }\n\n    .dataframe tbody tr th {\n        vertical-align: top;\n    }\n\n    .dataframe thead th {\n        text-align: right;\n    }\n</style>\n<table border=\"1\" class=\"dataframe\">\n  <thead>\n    <tr style=\"text-align: right;\">\n      <th></th>\n      <th>Year [note 3]</th>\n      <th>&lt;1</th>\n      <th>01-04</th>\n      <th>05-09</th>\n      <th>10-14</th>\n      <th>15-19</th>\n      <th>20-24</th>\n      <th>25-29</th>\n      <th>30-34</th>\n      <th>35-39</th>\n      <th>...</th>\n      <th>50-54</th>\n      <th>55-59</th>\n      <th>60-64</th>\n      <th>65-69</th>\n      <th>70-74</th>\n      <th>75-79</th>\n      <th>80-84</th>\n      <th>85-89</th>\n      <th>90+</th>\n      <th>All ages</th>\n    </tr>\n  </thead>\n  <tbody>\n    <tr>\n      <th>count</th>\n      <td>939.000000</td>\n      <td>939.0</td>\n      <td>939.0</td>\n      <td>939.0</td>\n      <td>939.0</td>\n      <td>939.000000</td>\n      <td>939.000000</td>\n      <td>939.000000</td>\n      <td>939.000000</td>\n      <td>939.000000</td>\n      <td>...</td>\n      <td>939.000000</td>\n      <td>939.000000</td>\n      <td>939.000000</td>\n      <td>939.000000</td>\n      <td>939.000000</td>\n      <td>939.000000</td>\n      <td>939.000000</td>\n      <td>939.000000</td>\n      <td>939.000000</td>\n      <td>939.000000</td>\n    </tr>\n    <tr>\n      <th>mean</th>\n      <td>2010.942492</td>\n      <td>0.0</td>\n      <td>0.0</td>\n      <td>0.0</td>\n      <td>0.0</td>\n      <td>0.006390</td>\n      <td>0.017039</td>\n      <td>0.102236</td>\n      <td>0.247071</td>\n      <td>0.656017</td>\n      <td>...</td>\n      <td>2.014909</td>\n      <td>1.929712</td>\n      <td>1.439830</td>\n      <td>0.981896</td>\n      <td>0.538871</td>\n      <td>0.283280</td>\n      <td>0.104366</td>\n      <td>0.038339</td>\n      <td>0.008520</td>\n      <td>11.205538</td>\n    </tr>\n    <tr>\n      <th>std</th>\n      <td>6.034804</td>\n      <td>0.0</td>\n      <td>0.0</td>\n      <td>0.0</td>\n      <td>0.0</td>\n      <td>0.079723</td>\n      <td>0.129487</td>\n      <td>0.383822</td>\n      <td>0.835436</td>\n      <td>1.889792</td>\n      <td>...</td>\n      <td>5.983434</td>\n      <td>5.857163</td>\n      <td>4.457015</td>\n      <td>3.036855</td>\n      <td>1.783402</td>\n      <td>1.088145</td>\n      <td>0.420392</td>\n      <td>0.197586</td>\n      <td>0.112785</td>\n      <td>31.821151</td>\n    </tr>\n    <tr>\n      <th>min</th>\n      <td>2001.000000</td>\n      <td>0.0</td>\n      <td>0.0</td>\n      <td>0.0</td>\n      <td>0.0</td>\n      <td>0.000000</td>\n      <td>0.000000</td>\n      <td>0.000000</td>\n      <td>0.000000</td>\n      <td>0.000000</td>\n      <td>...</td>\n      <td>0.000000</td>\n      <td>0.000000</td>\n      <td>0.000000</td>\n      <td>0.000000</td>\n      <td>0.000000</td>\n      <td>0.000000</td>\n      <td>0.000000</td>\n      <td>0.000000</td>\n      <td>0.000000</td>\n      <td>0.000000</td>\n    </tr>\n    <tr>\n      <th>25%</th>\n      <td>2006.000000</td>\n      <td>0.0</td>\n      <td>0.0</td>\n      <td>0.0</td>\n      <td>0.0</td>\n      <td>0.000000</td>\n      <td>0.000000</td>\n      <td>0.000000</td>\n      <td>0.000000</td>\n      <td>0.000000</td>\n      <td>...</td>\n      <td>0.000000</td>\n      <td>0.000000</td>\n      <td>0.000000</td>\n      <td>0.000000</td>\n      <td>0.000000</td>\n      <td>0.000000</td>\n      <td>0.000000</td>\n      <td>0.000000</td>\n      <td>0.000000</td>\n      <td>0.000000</td>\n    </tr>\n    <tr>\n      <th>50%</th>\n      <td>2011.000000</td>\n      <td>0.0</td>\n      <td>0.0</td>\n      <td>0.0</td>\n      <td>0.0</td>\n      <td>0.000000</td>\n      <td>0.000000</td>\n      <td>0.000000</td>\n      <td>0.000000</td>\n      <td>0.000000</td>\n      <td>...</td>\n      <td>0.000000</td>\n      <td>0.000000</td>\n      <td>0.000000</td>\n      <td>0.000000</td>\n      <td>0.000000</td>\n      <td>0.000000</td>\n      <td>0.000000</td>\n      <td>0.000000</td>\n      <td>0.000000</td>\n      <td>0.000000</td>\n    </tr>\n    <tr>\n      <th>75%</th>\n      <td>2016.000000</td>\n      <td>0.0</td>\n      <td>0.0</td>\n      <td>0.0</td>\n      <td>0.0</td>\n      <td>0.000000</td>\n      <td>0.000000</td>\n      <td>0.000000</td>\n      <td>0.000000</td>\n      <td>0.000000</td>\n      <td>...</td>\n      <td>0.000000</td>\n      <td>0.000000</td>\n      <td>0.000000</td>\n      <td>0.000000</td>\n      <td>0.000000</td>\n      <td>0.000000</td>\n      <td>0.000000</td>\n      <td>0.000000</td>\n      <td>0.000000</td>\n      <td>2.000000</td>\n    </tr>\n    <tr>\n      <th>max</th>\n      <td>2021.000000</td>\n      <td>0.0</td>\n      <td>0.0</td>\n      <td>0.0</td>\n      <td>0.0</td>\n      <td>1.000000</td>\n      <td>1.000000</td>\n      <td>4.000000</td>\n      <td>7.000000</td>\n      <td>15.000000</td>\n      <td>...</td>\n      <td>50.000000</td>\n      <td>64.000000</td>\n      <td>40.000000</td>\n      <td>25.000000</td>\n      <td>20.000000</td>\n      <td>15.000000</td>\n      <td>4.000000</td>\n      <td>2.000000</td>\n      <td>2.000000</td>\n      <td>252.000000</td>\n    </tr>\n  </tbody>\n</table>\n<p>8 rows × 22 columns</p>\n</div>"
     },
     "execution_count": 48,
     "metadata": {},
     "output_type": "execute_result"
    }
   ],
   "source": [
    "# Show the basic information and statistics for df2\n",
    "df2_England.info()\n",
    "df2_England.describe()\n",
    "df2_Wales.info()\n",
    "df2_Wales.describe()\n",
    "df2_Scotland.info()\n",
    "df2_Scotland.describe()\n",
    "df2_Northern_Ireland.info()\n",
    "df2_Northern_Ireland.describe()"
   ],
   "metadata": {
    "collapsed": false,
    "ExecuteTime": {
     "end_time": "2024-03-21T15:17:05.955654Z",
     "start_time": "2024-03-21T15:17:05.889963Z"
    }
   },
   "id": "a062c43b741ebbc4",
   "execution_count": 48
  },
  {
   "cell_type": "code",
   "outputs": [
    {
     "name": "stdout",
     "output_type": "stream",
     "text": [
      "<class 'pandas.core.frame.DataFrame'>\n",
      "RangeIndex: 945 entries, 0 to 944\n",
      "Data columns (total 8 columns):\n",
      " #   Column                             Non-Null Count  Dtype  \n",
      "---  ------                             --------------  -----  \n",
      " 0   Area code                          945 non-null    object \n",
      " 1   Area name                          945 non-null    object \n",
      " 2   Sex                                945 non-null    object \n",
      " 3   Year [note 3]                      945 non-null    int64  \n",
      " 4   Number of deaths                   945 non-null    int64  \n",
      " 5   Age-standardised rate per 100,000  945 non-null    float64\n",
      " 6   Lower 95% confidence interval      945 non-null    float64\n",
      " 7   Upper 95% confidence interval      945 non-null    float64\n",
      "dtypes: float64(3), int64(2), object(3)\n",
      "memory usage: 59.2+ KB\n"
     ]
    },
    {
     "data": {
      "text/plain": "       Year [note 3]  Number of deaths  Age-standardised rate per 100,000  \\\ncount     945.000000        945.000000                         945.000000   \nmean     2011.000000       1119.921693                          12.290899   \nstd         6.058507       1686.365932                           5.745778   \nmin      2001.000000         53.000000                           3.800000   \n25%      2006.000000        229.000000                           8.100000   \n50%      2011.000000        400.000000                          11.300000   \n75%      2016.000000        904.000000                          15.000000   \nmax      2021.000000       9641.000000                          42.600000   \n\n       Lower 95% confidence interval  Upper 95% confidence interval  \ncount                     945.000000                     945.000000  \nmean                       11.147090                      13.444550  \nstd                         5.383661                       6.153233  \nmin                         3.100000                       4.400000  \n25%                         7.200000                       9.100000  \n50%                        10.400000                      12.400000  \n75%                        13.800000                      16.200000  \nmax                        39.900000                      45.400000  ",
      "text/html": "<div>\n<style scoped>\n    .dataframe tbody tr th:only-of-type {\n        vertical-align: middle;\n    }\n\n    .dataframe tbody tr th {\n        vertical-align: top;\n    }\n\n    .dataframe thead th {\n        text-align: right;\n    }\n</style>\n<table border=\"1\" class=\"dataframe\">\n  <thead>\n    <tr style=\"text-align: right;\">\n      <th></th>\n      <th>Year [note 3]</th>\n      <th>Number of deaths</th>\n      <th>Age-standardised rate per 100,000</th>\n      <th>Lower 95% confidence interval</th>\n      <th>Upper 95% confidence interval</th>\n    </tr>\n  </thead>\n  <tbody>\n    <tr>\n      <th>count</th>\n      <td>945.000000</td>\n      <td>945.000000</td>\n      <td>945.000000</td>\n      <td>945.000000</td>\n      <td>945.000000</td>\n    </tr>\n    <tr>\n      <th>mean</th>\n      <td>2011.000000</td>\n      <td>1119.921693</td>\n      <td>12.290899</td>\n      <td>11.147090</td>\n      <td>13.444550</td>\n    </tr>\n    <tr>\n      <th>std</th>\n      <td>6.058507</td>\n      <td>1686.365932</td>\n      <td>5.745778</td>\n      <td>5.383661</td>\n      <td>6.153233</td>\n    </tr>\n    <tr>\n      <th>min</th>\n      <td>2001.000000</td>\n      <td>53.000000</td>\n      <td>3.800000</td>\n      <td>3.100000</td>\n      <td>4.400000</td>\n    </tr>\n    <tr>\n      <th>25%</th>\n      <td>2006.000000</td>\n      <td>229.000000</td>\n      <td>8.100000</td>\n      <td>7.200000</td>\n      <td>9.100000</td>\n    </tr>\n    <tr>\n      <th>50%</th>\n      <td>2011.000000</td>\n      <td>400.000000</td>\n      <td>11.300000</td>\n      <td>10.400000</td>\n      <td>12.400000</td>\n    </tr>\n    <tr>\n      <th>75%</th>\n      <td>2016.000000</td>\n      <td>904.000000</td>\n      <td>15.000000</td>\n      <td>13.800000</td>\n      <td>16.200000</td>\n    </tr>\n    <tr>\n      <th>max</th>\n      <td>2021.000000</td>\n      <td>9641.000000</td>\n      <td>42.600000</td>\n      <td>39.900000</td>\n      <td>45.400000</td>\n    </tr>\n  </tbody>\n</table>\n</div>"
     },
     "execution_count": 49,
     "metadata": {},
     "output_type": "execute_result"
    }
   ],
   "source": [
    "# Show the basic information and statistics for df3\n",
    "df3.info()\n",
    "df3.describe()"
   ],
   "metadata": {
    "collapsed": false,
    "ExecuteTime": {
     "end_time": "2024-03-21T15:17:05.969778Z",
     "start_time": "2024-03-21T15:17:05.956834Z"
    }
   },
   "id": "5b77941fe9546584",
   "execution_count": 49
  },
  {
   "cell_type": "code",
   "outputs": [],
   "source": [
    "# Function to show unique values in the columns with string values\n",
    "def show_unique_values(in_df):\n",
    "    for column in in_df.select_dtypes(include='object').columns:\n",
    "        # Get unique values in the column and sort them\n",
    "        unique_values = sorted(in_df[column].unique())\n",
    "\n",
    "        # Print sorted unique values of the column in a new line for each value\n",
    "        print(f\"\\nUnique values in '{column}':\\n\")\n",
    "        print(*unique_values, sep=\"\\n\")"
   ],
   "metadata": {
    "collapsed": false,
    "ExecuteTime": {
     "end_time": "2024-03-21T15:17:05.974824Z",
     "start_time": "2024-03-21T15:17:05.970995Z"
    }
   },
   "id": "d607d388100a7acc",
   "execution_count": 50
  },
  {
   "cell_type": "code",
   "outputs": [
    {
     "name": "stdout",
     "output_type": "stream",
     "text": [
      "\n",
      "Unique values in 'Sex':\n",
      "\n",
      "Females\n",
      "Males\n",
      "Persons\n",
      "\n",
      "Unique values in 'ICD-10 code':\n",
      "\n",
      "E24.4\n",
      "F10\n",
      "G31.2\n",
      "G62.1\n",
      "G72.1\n",
      "I42.6\n",
      "K29.2\n",
      "K70\n",
      "K85.2\n",
      "K86.0\n",
      "Q86.0\n",
      "R78.0\n",
      "X45\n",
      "X65\n",
      "Y15\n",
      "\n",
      "Unique values in 'Individual cause of death description':\n",
      "\n",
      "Accidental poisoning by and exposure to alcohol\n",
      "Alcohol-induced acute pancreatitis\n",
      "Alcohol-induced chronic pancreatitis\n",
      "Alcohol-induced pseudo-Cushing's syndrome\n",
      "Alcoholic cardiomyopathy\n",
      "Alcoholic gastritis\n",
      "Alcoholic liver disease\n",
      "Alcoholic myopathy\n",
      "Alcoholic polyneuropathy\n",
      "Degeneration of nervous system due to alcohol\n",
      "Excess alcohol blood levels\n",
      "Fetal alcohol syndrome (dysmorphic)\n",
      "Intentional self-poisoning by and exposure to alcohol\n",
      "Mental and behavioural disorders due to the use of alcohol\n",
      "Poisoning by and exposure to alcohol, undetermined intent\n"
     ]
    }
   ],
   "source": [
    "# Show unique values in the columns with string values\n",
    "show_unique_values(df2_England)"
   ],
   "metadata": {
    "collapsed": false,
    "ExecuteTime": {
     "end_time": "2024-03-21T15:17:05.980593Z",
     "start_time": "2024-03-21T15:17:05.977788Z"
    }
   },
   "id": "24734c4a8bca0666",
   "execution_count": 51
  },
  {
   "cell_type": "code",
   "outputs": [
    {
     "name": "stdout",
     "output_type": "stream",
     "text": [
      "\n",
      "Unique values in 'Area code':\n",
      "\n",
      "E12000001\n",
      "E12000002\n",
      "E12000003\n",
      "E12000004\n",
      "E12000005\n",
      "E12000006\n",
      "E12000007\n",
      "E12000008\n",
      "E12000009\n",
      "E92000001\n",
      "K02000001\n",
      "K04000001\n",
      "N92000002\n",
      "S92000003\n",
      "W92000004\n",
      "\n",
      "Unique values in 'Area name':\n",
      "\n",
      "East\n",
      "East Midlands\n",
      "England\n",
      "England and Wales\n",
      "London\n",
      "North East\n",
      "North West\n",
      "Northern Ireland\n",
      "Scotland\n",
      "South East\n",
      "South West\n",
      "United Kingdom\n",
      "Wales\n",
      "West Midlands\n",
      "Yorkshire and The Humber\n",
      "Yorkshire and the Humber\n",
      "\n",
      "Unique values in 'Sex':\n",
      "\n",
      "Females\n",
      "Males\n",
      "Persons\n"
     ]
    }
   ],
   "source": [
    "# Show unique values in the columns with string values\n",
    "show_unique_values(df3)"
   ],
   "metadata": {
    "collapsed": false,
    "ExecuteTime": {
     "end_time": "2024-03-21T15:17:05.984990Z",
     "start_time": "2024-03-21T15:17:05.981187Z"
    }
   },
   "id": "e43fc437cf872619",
   "execution_count": 52
  },
  {
   "cell_type": "code",
   "outputs": [],
   "source": [
    "# Transform and clean the data\n",
    "\n",
    "# Add the country column to the dataframes\n",
    "df2_England         ['Country'] = 'England'\n",
    "df2_Wales           ['Country'] = 'Wales'\n",
    "df2_Scotland        ['Country'] = 'Scotland'\n",
    "df2_Northern_Ireland['Country'] = 'Northern Ireland'\n",
    "\n",
    "# Merge the dataframes of df2\n",
    "df2 = pd.concat([df2_England, df2_Wales, df2_Scotland, df2_Northern_Ireland], ignore_index=True)\n",
    "\n",
    "# Rename the columns\n",
    "df2 = df2.rename(columns={'Year [note 3]' : 'Year', 'Individual cause of death description' : 'Cause'})\n",
    "df3 = df3.rename(columns={'Year [note 3]' : 'Year'})\n",
    "\n",
    "# Move the 'Country' column to the first position\n",
    "df2.insert(0, 'Country', df2.pop('Country'))\n",
    "\n",
    "# Delete the rows and columns with totals\n",
    "df2 = df2[df2['Sex'] != 'Persons']\n",
    "df3 = df3[df3['Sex'] != 'Persons']\n",
    "df2 = df2.drop(columns=['All ages'])\n",
    "\n",
    "# Delete unnecessary rows and columns\n",
    "df2 = df2.drop(columns=['ICD-10 code'])\n",
    "df3 = df3.drop(columns=['Area code'])\n",
    "df3 = df3[df3['Area name'].isin(['England', 'Wales', 'Scotland', 'Northern Ireland'])]"
   ],
   "metadata": {
    "collapsed": false,
    "ExecuteTime": {
     "end_time": "2024-03-21T15:17:05.993951Z",
     "start_time": "2024-03-21T15:17:05.985793Z"
    }
   },
   "id": "cc2f04dfabdb41e0",
   "execution_count": 53
  },
  {
   "cell_type": "code",
   "outputs": [
    {
     "data": {
      "text/plain": "               Country  Year      Sex  \\\n15             England  2021    Males   \n16             England  2021    Males   \n17             England  2021    Males   \n18             England  2021    Males   \n19             England  2021    Males   \n...                ...   ...      ...   \n3769  Northern Ireland  2001  Females   \n3770  Northern Ireland  2001  Females   \n3771  Northern Ireland  2001  Females   \n3772  Northern Ireland  2001  Females   \n3773  Northern Ireland  2001  Females   \n\n                                                  Cause  <1  01-04  05-09  \\\n15            Alcohol-induced pseudo-Cushing's syndrome   0      0      0   \n16    Mental and behavioural disorders due to the us...   0      0      0   \n17        Degeneration of nervous system due to alcohol   0      0      0   \n18                             Alcoholic polyneuropathy   0      0      0   \n19                                   Alcoholic myopathy   0      0      0   \n...                                                 ...  ..    ...    ...   \n3769                Fetal alcohol syndrome (dysmorphic)   0      0      0   \n3770                        Excess alcohol blood levels   0      0      0   \n3771    Accidental poisoning by and exposure to alcohol   0      0      0   \n3772  Intentional self-poisoning by and exposure to ...   0      0      0   \n3773  Poisoning by and exposure to alcohol, undeterm...   0      0      0   \n\n      10-14  15-19  20-24  ...  45-49  50-54  55-59  60-64  65-69  70-74  \\\n15        0      0      0  ...      0      0      0      0      0      0   \n16        0      0      2  ...     57     72     66     47     62     42   \n17        0      0      0  ...      0      0      0      1      1      2   \n18        0      0      0  ...      0      0      0      0      0      0   \n19        0      0      0  ...      0      0      1      0      1      0   \n...     ...    ...    ...  ...    ...    ...    ...    ...    ...    ...   \n3769      0      0      0  ...      0      0      0      0      0      0   \n3770      0      0      0  ...      0      0      0      0      0      0   \n3771      0      0      0  ...      0      0      0      0      0      0   \n3772      0      0      0  ...      0      0      0      0      0      0   \n3773      0      0      0  ...      0      0      0      0      0      0   \n\n      75-79  80-84  85-89  90+  \n15        0      0      0    0  \n16       27     21      6    3  \n17        1      0      0    0  \n18        0      0      0    0  \n19        0      0      0    0  \n...     ...    ...    ...  ...  \n3769      0      0      0    0  \n3770      0      0      0    0  \n3771      0      0      0    0  \n3772      0      0      0    0  \n3773      0      0      0    0  \n\n[2516 rows x 24 columns]",
      "text/html": "<div>\n<style scoped>\n    .dataframe tbody tr th:only-of-type {\n        vertical-align: middle;\n    }\n\n    .dataframe tbody tr th {\n        vertical-align: top;\n    }\n\n    .dataframe thead th {\n        text-align: right;\n    }\n</style>\n<table border=\"1\" class=\"dataframe\">\n  <thead>\n    <tr style=\"text-align: right;\">\n      <th></th>\n      <th>Country</th>\n      <th>Year</th>\n      <th>Sex</th>\n      <th>Cause</th>\n      <th>&lt;1</th>\n      <th>01-04</th>\n      <th>05-09</th>\n      <th>10-14</th>\n      <th>15-19</th>\n      <th>20-24</th>\n      <th>...</th>\n      <th>45-49</th>\n      <th>50-54</th>\n      <th>55-59</th>\n      <th>60-64</th>\n      <th>65-69</th>\n      <th>70-74</th>\n      <th>75-79</th>\n      <th>80-84</th>\n      <th>85-89</th>\n      <th>90+</th>\n    </tr>\n  </thead>\n  <tbody>\n    <tr>\n      <th>15</th>\n      <td>England</td>\n      <td>2021</td>\n      <td>Males</td>\n      <td>Alcohol-induced pseudo-Cushing's syndrome</td>\n      <td>0</td>\n      <td>0</td>\n      <td>0</td>\n      <td>0</td>\n      <td>0</td>\n      <td>0</td>\n      <td>...</td>\n      <td>0</td>\n      <td>0</td>\n      <td>0</td>\n      <td>0</td>\n      <td>0</td>\n      <td>0</td>\n      <td>0</td>\n      <td>0</td>\n      <td>0</td>\n      <td>0</td>\n    </tr>\n    <tr>\n      <th>16</th>\n      <td>England</td>\n      <td>2021</td>\n      <td>Males</td>\n      <td>Mental and behavioural disorders due to the us...</td>\n      <td>0</td>\n      <td>0</td>\n      <td>0</td>\n      <td>0</td>\n      <td>0</td>\n      <td>2</td>\n      <td>...</td>\n      <td>57</td>\n      <td>72</td>\n      <td>66</td>\n      <td>47</td>\n      <td>62</td>\n      <td>42</td>\n      <td>27</td>\n      <td>21</td>\n      <td>6</td>\n      <td>3</td>\n    </tr>\n    <tr>\n      <th>17</th>\n      <td>England</td>\n      <td>2021</td>\n      <td>Males</td>\n      <td>Degeneration of nervous system due to alcohol</td>\n      <td>0</td>\n      <td>0</td>\n      <td>0</td>\n      <td>0</td>\n      <td>0</td>\n      <td>0</td>\n      <td>...</td>\n      <td>0</td>\n      <td>0</td>\n      <td>0</td>\n      <td>1</td>\n      <td>1</td>\n      <td>2</td>\n      <td>1</td>\n      <td>0</td>\n      <td>0</td>\n      <td>0</td>\n    </tr>\n    <tr>\n      <th>18</th>\n      <td>England</td>\n      <td>2021</td>\n      <td>Males</td>\n      <td>Alcoholic polyneuropathy</td>\n      <td>0</td>\n      <td>0</td>\n      <td>0</td>\n      <td>0</td>\n      <td>0</td>\n      <td>0</td>\n      <td>...</td>\n      <td>0</td>\n      <td>0</td>\n      <td>0</td>\n      <td>0</td>\n      <td>0</td>\n      <td>0</td>\n      <td>0</td>\n      <td>0</td>\n      <td>0</td>\n      <td>0</td>\n    </tr>\n    <tr>\n      <th>19</th>\n      <td>England</td>\n      <td>2021</td>\n      <td>Males</td>\n      <td>Alcoholic myopathy</td>\n      <td>0</td>\n      <td>0</td>\n      <td>0</td>\n      <td>0</td>\n      <td>0</td>\n      <td>0</td>\n      <td>...</td>\n      <td>0</td>\n      <td>0</td>\n      <td>1</td>\n      <td>0</td>\n      <td>1</td>\n      <td>0</td>\n      <td>0</td>\n      <td>0</td>\n      <td>0</td>\n      <td>0</td>\n    </tr>\n    <tr>\n      <th>...</th>\n      <td>...</td>\n      <td>...</td>\n      <td>...</td>\n      <td>...</td>\n      <td>...</td>\n      <td>...</td>\n      <td>...</td>\n      <td>...</td>\n      <td>...</td>\n      <td>...</td>\n      <td>...</td>\n      <td>...</td>\n      <td>...</td>\n      <td>...</td>\n      <td>...</td>\n      <td>...</td>\n      <td>...</td>\n      <td>...</td>\n      <td>...</td>\n      <td>...</td>\n      <td>...</td>\n    </tr>\n    <tr>\n      <th>3769</th>\n      <td>Northern Ireland</td>\n      <td>2001</td>\n      <td>Females</td>\n      <td>Fetal alcohol syndrome (dysmorphic)</td>\n      <td>0</td>\n      <td>0</td>\n      <td>0</td>\n      <td>0</td>\n      <td>0</td>\n      <td>0</td>\n      <td>...</td>\n      <td>0</td>\n      <td>0</td>\n      <td>0</td>\n      <td>0</td>\n      <td>0</td>\n      <td>0</td>\n      <td>0</td>\n      <td>0</td>\n      <td>0</td>\n      <td>0</td>\n    </tr>\n    <tr>\n      <th>3770</th>\n      <td>Northern Ireland</td>\n      <td>2001</td>\n      <td>Females</td>\n      <td>Excess alcohol blood levels</td>\n      <td>0</td>\n      <td>0</td>\n      <td>0</td>\n      <td>0</td>\n      <td>0</td>\n      <td>0</td>\n      <td>...</td>\n      <td>0</td>\n      <td>0</td>\n      <td>0</td>\n      <td>0</td>\n      <td>0</td>\n      <td>0</td>\n      <td>0</td>\n      <td>0</td>\n      <td>0</td>\n      <td>0</td>\n    </tr>\n    <tr>\n      <th>3771</th>\n      <td>Northern Ireland</td>\n      <td>2001</td>\n      <td>Females</td>\n      <td>Accidental poisoning by and exposure to alcohol</td>\n      <td>0</td>\n      <td>0</td>\n      <td>0</td>\n      <td>0</td>\n      <td>0</td>\n      <td>0</td>\n      <td>...</td>\n      <td>0</td>\n      <td>0</td>\n      <td>0</td>\n      <td>0</td>\n      <td>0</td>\n      <td>0</td>\n      <td>0</td>\n      <td>0</td>\n      <td>0</td>\n      <td>0</td>\n    </tr>\n    <tr>\n      <th>3772</th>\n      <td>Northern Ireland</td>\n      <td>2001</td>\n      <td>Females</td>\n      <td>Intentional self-poisoning by and exposure to ...</td>\n      <td>0</td>\n      <td>0</td>\n      <td>0</td>\n      <td>0</td>\n      <td>0</td>\n      <td>0</td>\n      <td>...</td>\n      <td>0</td>\n      <td>0</td>\n      <td>0</td>\n      <td>0</td>\n      <td>0</td>\n      <td>0</td>\n      <td>0</td>\n      <td>0</td>\n      <td>0</td>\n      <td>0</td>\n    </tr>\n    <tr>\n      <th>3773</th>\n      <td>Northern Ireland</td>\n      <td>2001</td>\n      <td>Females</td>\n      <td>Poisoning by and exposure to alcohol, undeterm...</td>\n      <td>0</td>\n      <td>0</td>\n      <td>0</td>\n      <td>0</td>\n      <td>0</td>\n      <td>0</td>\n      <td>...</td>\n      <td>0</td>\n      <td>0</td>\n      <td>0</td>\n      <td>0</td>\n      <td>0</td>\n      <td>0</td>\n      <td>0</td>\n      <td>0</td>\n      <td>0</td>\n      <td>0</td>\n    </tr>\n  </tbody>\n</table>\n<p>2516 rows × 24 columns</p>\n</div>"
     },
     "execution_count": 54,
     "metadata": {},
     "output_type": "execute_result"
    }
   ],
   "source": [
    "# View the data\n",
    "df2"
   ],
   "metadata": {
    "collapsed": false,
    "ExecuteTime": {
     "end_time": "2024-03-21T15:17:06.003563Z",
     "start_time": "2024-03-21T15:17:05.994753Z"
    }
   },
   "id": "a97b26348ed5b68f",
   "execution_count": 54
  },
  {
   "cell_type": "code",
   "outputs": [
    {
     "data": {
      "text/plain": "    Area name      Sex  Year  Number of deaths  \\\n567   England  Females  2001              1305   \n568   England    Males  2001              2698   \n570   England  Females  2002              1331   \n571   England    Males  2002              2784   \n573   England  Females  2003              1374   \n..        ...      ...   ...               ...   \n937     Wales    Males  2019               229   \n939     Wales  Females  2020               144   \n940     Wales    Males  2020               294   \n942     Wales  Females  2021               147   \n943     Wales    Males  2021               325   \n\n     Age-standardised rate per 100,000  Lower 95% confidence interval  \\\n567                                5.6                            5.3   \n568                               12.3                           11.9   \n570                                5.7                            5.4   \n571                               12.7                           12.2   \n573                                5.8                            5.5   \n..                                 ...                            ...   \n937                               15.1                           13.1   \n939                                9.0                            7.5   \n940                               19.1                           16.9   \n942                                9.2                            7.7   \n943                               21.1                           18.8   \n\n     Upper 95% confidence interval  \n567                            5.9  \n568                           12.8  \n570                            6.0  \n571                           13.2  \n573                            6.1  \n..                             ...  \n937                           17.0  \n939                           10.5  \n940                           21.3  \n942                           10.7  \n943                           23.4  \n\n[168 rows x 7 columns]",
      "text/html": "<div>\n<style scoped>\n    .dataframe tbody tr th:only-of-type {\n        vertical-align: middle;\n    }\n\n    .dataframe tbody tr th {\n        vertical-align: top;\n    }\n\n    .dataframe thead th {\n        text-align: right;\n    }\n</style>\n<table border=\"1\" class=\"dataframe\">\n  <thead>\n    <tr style=\"text-align: right;\">\n      <th></th>\n      <th>Area name</th>\n      <th>Sex</th>\n      <th>Year</th>\n      <th>Number of deaths</th>\n      <th>Age-standardised rate per 100,000</th>\n      <th>Lower 95% confidence interval</th>\n      <th>Upper 95% confidence interval</th>\n    </tr>\n  </thead>\n  <tbody>\n    <tr>\n      <th>567</th>\n      <td>England</td>\n      <td>Females</td>\n      <td>2001</td>\n      <td>1305</td>\n      <td>5.6</td>\n      <td>5.3</td>\n      <td>5.9</td>\n    </tr>\n    <tr>\n      <th>568</th>\n      <td>England</td>\n      <td>Males</td>\n      <td>2001</td>\n      <td>2698</td>\n      <td>12.3</td>\n      <td>11.9</td>\n      <td>12.8</td>\n    </tr>\n    <tr>\n      <th>570</th>\n      <td>England</td>\n      <td>Females</td>\n      <td>2002</td>\n      <td>1331</td>\n      <td>5.7</td>\n      <td>5.4</td>\n      <td>6.0</td>\n    </tr>\n    <tr>\n      <th>571</th>\n      <td>England</td>\n      <td>Males</td>\n      <td>2002</td>\n      <td>2784</td>\n      <td>12.7</td>\n      <td>12.2</td>\n      <td>13.2</td>\n    </tr>\n    <tr>\n      <th>573</th>\n      <td>England</td>\n      <td>Females</td>\n      <td>2003</td>\n      <td>1374</td>\n      <td>5.8</td>\n      <td>5.5</td>\n      <td>6.1</td>\n    </tr>\n    <tr>\n      <th>...</th>\n      <td>...</td>\n      <td>...</td>\n      <td>...</td>\n      <td>...</td>\n      <td>...</td>\n      <td>...</td>\n      <td>...</td>\n    </tr>\n    <tr>\n      <th>937</th>\n      <td>Wales</td>\n      <td>Males</td>\n      <td>2019</td>\n      <td>229</td>\n      <td>15.1</td>\n      <td>13.1</td>\n      <td>17.0</td>\n    </tr>\n    <tr>\n      <th>939</th>\n      <td>Wales</td>\n      <td>Females</td>\n      <td>2020</td>\n      <td>144</td>\n      <td>9.0</td>\n      <td>7.5</td>\n      <td>10.5</td>\n    </tr>\n    <tr>\n      <th>940</th>\n      <td>Wales</td>\n      <td>Males</td>\n      <td>2020</td>\n      <td>294</td>\n      <td>19.1</td>\n      <td>16.9</td>\n      <td>21.3</td>\n    </tr>\n    <tr>\n      <th>942</th>\n      <td>Wales</td>\n      <td>Females</td>\n      <td>2021</td>\n      <td>147</td>\n      <td>9.2</td>\n      <td>7.7</td>\n      <td>10.7</td>\n    </tr>\n    <tr>\n      <th>943</th>\n      <td>Wales</td>\n      <td>Males</td>\n      <td>2021</td>\n      <td>325</td>\n      <td>21.1</td>\n      <td>18.8</td>\n      <td>23.4</td>\n    </tr>\n  </tbody>\n</table>\n<p>168 rows × 7 columns</p>\n</div>"
     },
     "execution_count": 55,
     "metadata": {},
     "output_type": "execute_result"
    }
   ],
   "source": [
    "# View the data\n",
    "df3"
   ],
   "metadata": {
    "collapsed": false,
    "ExecuteTime": {
     "end_time": "2024-03-21T15:17:06.011650Z",
     "start_time": "2024-03-21T15:17:06.004542Z"
    }
   },
   "id": "93f0737b22f51f5f",
   "execution_count": 55
  },
  {
   "cell_type": "code",
   "outputs": [
    {
     "name": "stdout",
     "output_type": "stream",
     "text": [
      "\n",
      "Unique values in 'Country':\n",
      "\n",
      "England\n",
      "Northern Ireland\n",
      "Scotland\n",
      "Wales\n",
      "\n",
      "Unique values in 'Sex':\n",
      "\n",
      "Females\n",
      "Males\n",
      "\n",
      "Unique values in 'Cause':\n",
      "\n",
      "Accidental poisoning by and exposure to alcohol\n",
      "Alcohol-induced acute pancreatitis\n",
      "Alcohol-induced chronic pancreatitis\n",
      "Alcohol-induced pseudo-Cushing's syndrome\n",
      "Alcoholic cardiomyopathy\n",
      "Alcoholic gastritis\n",
      "Alcoholic liver disease\n",
      "Alcoholic myopathy\n",
      "Alcoholic polyneuropathy\n",
      "Degeneration of nervous system due to alcohol\n",
      "Excess alcohol blood levels\n",
      "External causes\n",
      "Fetal alcohol syndrome (dysmorphic)\n",
      "Intentional self-poisoning by and exposure to alcohol\n",
      "Mental and behavioural disorders due to the use of alcohol\n",
      "Poisoning by and exposure to alcohol, undetermined intent\n"
     ]
    }
   ],
   "source": [
    "# Show unique values in the columns with string values\n",
    "show_unique_values(df2)"
   ],
   "metadata": {
    "collapsed": false,
    "ExecuteTime": {
     "end_time": "2024-03-21T15:17:06.016086Z",
     "start_time": "2024-03-21T15:17:06.012586Z"
    }
   },
   "id": "d77b01cf2cb0602",
   "execution_count": 56
  },
  {
   "cell_type": "code",
   "outputs": [
    {
     "name": "stdout",
     "output_type": "stream",
     "text": [
      "\n",
      "Unique values in 'Area name':\n",
      "\n",
      "England\n",
      "Northern Ireland\n",
      "Scotland\n",
      "Wales\n",
      "\n",
      "Unique values in 'Sex':\n",
      "\n",
      "Females\n",
      "Males\n"
     ]
    }
   ],
   "source": [
    "# Show unique values in the columns with string values\n",
    "show_unique_values(df3)"
   ],
   "metadata": {
    "collapsed": false,
    "ExecuteTime": {
     "end_time": "2024-03-21T15:17:06.020012Z",
     "start_time": "2024-03-21T15:17:06.017651Z"
    }
   },
   "id": "e8279219389f6194",
   "execution_count": 57
  }
 ],
 "metadata": {
  "kernelspec": {
   "display_name": "Python 3",
   "language": "python",
   "name": "python3"
  },
  "language_info": {
   "codemirror_mode": {
    "name": "ipython",
    "version": 2
   },
   "file_extension": ".py",
   "mimetype": "text/x-python",
   "name": "python",
   "nbconvert_exporter": "python",
   "pygments_lexer": "ipython2",
   "version": "2.7.6"
  }
 },
 "nbformat": 4,
 "nbformat_minor": 5
}
